{
 "cells": [
  {
   "cell_type": "code",
   "execution_count": 2,
   "metadata": {},
   "outputs": [],
   "source": [
    "from os.path import abspath\n",
    "from sys import path\n",
    "import pandas as pd\n",
    "import numpy as np\n",
    "import scripts\n",
    "\n",
    "path.append(abspath('/mnt/c/Users/maoltea/Documents/Time Series Anomaly Detection/stl'))\n",
    "\n",
    "from stlLib import stl"
   ]
  },
  {
   "cell_type": "code",
   "execution_count": 3,
   "metadata": {},
   "outputs": [],
   "source": [
    "data = pd.read_csv('co2', delim_whitespace=True, header=None, dtype=np.float64).values.flatten()\n",
    "\n",
    "n = 348\n",
    "np = 12\n",
    "ns = 35\n",
    "nt = 19\n",
    "nl = 13\n",
    "no = 2\n",
    "ni = 1\n",
    "nsjump = 4\n",
    "ntjump = 2\n",
    "nljump = 2\n",
    "isdeg = 1\n",
    "itdeg = 1\n",
    "ildeg = 1\n",
    "\n",
    "rw, season, trend, work = stl(data, np, ns, nt, nl, isdeg, itdeg, ildeg, nsjump, ntjump, nljump, ni, no)"
   ]
  },
  {
   "cell_type": "code",
   "execution_count": 4,
   "metadata": {},
   "outputs": [
    {
     "name": "stdout",
     "output_type": "stream",
     "text": [
      "[]\n"
     ]
    }
   ],
   "source": [
    "print(scripts.getFiles('.'))"
   ]
  },
  {
   "cell_type": "code",
   "execution_count": null,
   "metadata": {},
   "outputs": [],
   "source": []
  }
 ],
 "metadata": {
  "kernelspec": {
   "display_name": "Python 3",
   "language": "python",
   "name": "python3"
  },
  "language_info": {
   "codemirror_mode": {
    "name": "ipython",
    "version": 3
   },
   "file_extension": ".py",
   "mimetype": "text/x-python",
   "name": "python",
   "nbconvert_exporter": "python",
   "pygments_lexer": "ipython3",
   "version": "3.6.5"
  }
 },
 "nbformat": 4,
 "nbformat_minor": 2
}
