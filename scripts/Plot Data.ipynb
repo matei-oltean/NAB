{
 "cells": [
  {
   "cell_type": "code",
   "execution_count": null,
   "metadata": {},
   "outputs": [],
   "source": [
    "import warnings\n",
    "import itertools\n",
    "import pandas\n",
    "import math\n",
    "import sys\n",
    "import os\n",
    "import numpy as np\n",
    "from plotly.offline import download_plotlyjs, init_notebook_mode, plot, iplot\n",
    "init_notebook_mode(connected=True)"
   ]
  },
  {
   "cell_type": "code",
   "execution_count": null,
   "metadata": {},
   "outputs": [],
   "source": [
    "# Add your data file to plot\n",
    "data_file = \"../data/realTweets/Twitter_volume_AAPL.csv\""
   ]
  },
  {
   "cell_type": "code",
   "execution_count": null,
   "metadata": {},
   "outputs": [],
   "source": [
    "# Plot Data (Note if the plot is not visible please close the tab shutdown notebook and restart)\n",
    "Error = None\n",
    "if os.path.isfile(data_file):\n",
    "    dataframe = pandas.read_csv(data_file)\n",
    "else:\n",
    "    Error = \"No such file : \"+data_file\n",
    "    print(Error)\n",
    "if set(['timestamp','value']).issubset(dataframe.columns) and Error is None:\n",
    "    x = np.array(dataframe['timestamp'])\n",
    "    y = np.array(dataframe['value'])\n",
    "    mean = np.mean(y)\n",
    "\n",
    "    trace = {\"x\": x,\n",
    "             \"y\": y,\n",
    "             \"mode\": 'lines',\n",
    "             \"name\": 'Value'}\n",
    "    trace_mean = {\"x\": x,\n",
    "                  \"y\": np.ones(len(x))*mean,\n",
    "                  \"mode\": 'lines',\n",
    "                  \"name\": 'Mean'}\n",
    "    traces = [trace,trace_mean]\n",
    "    layout = dict(title = \"Data plot : \"+data_file,\n",
    "                  xaxis = dict(title = 'X'),\n",
    "                  yaxis = dict(title = 'Value')\n",
    "                 )\n",
    "    fig = dict(data=traces, layout=layout)\n",
    "    iplot(fig)\n",
    "else:\n",
    "    if Error is None:\n",
    "        Error = \"Missing colomns in file \"+data_file\n",
    "    print(Error)"
   ]
  },
  {
   "cell_type": "code",
   "execution_count": null,
   "metadata": {},
   "outputs": [],
   "source": []
  }
 ],
 "metadata": {
  "kernelspec": {
   "display_name": "Python 3",
   "language": "python",
   "name": "python3"
  },
  "language_info": {
   "codemirror_mode": {
    "name": "ipython",
    "version": 2
   },
   "file_extension": ".py",
   "mimetype": "text/x-python",
   "name": "python",
   "nbconvert_exporter": "python",
   "pygments_lexer": "ipython2",
   "version": "2.7.15"
  },
  "varInspector": {
   "cols": {
    "lenName": 16,
    "lenType": 16,
    "lenVar": 40
   },
   "kernels_config": {
    "python": {
     "delete_cmd_postfix": "",
     "delete_cmd_prefix": "del ",
     "library": "var_list.py",
     "varRefreshCmd": "print(var_dic_list())"
    },
    "r": {
     "delete_cmd_postfix": ") ",
     "delete_cmd_prefix": "rm(",
     "library": "var_list.r",
     "varRefreshCmd": "cat(var_dic_list()) "
    }
   },
   "types_to_exclude": [
    "module",
    "function",
    "builtin_function_or_method",
    "instance",
    "_Feature"
   ],
   "window_display": false
  }
 },
 "nbformat": 4,
 "nbformat_minor": 2
}
