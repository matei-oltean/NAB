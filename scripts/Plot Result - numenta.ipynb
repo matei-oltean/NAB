{
 "cells": [
  {
   "cell_type": "code",
   "execution_count": 1,
   "metadata": {},
   "outputs": [
    {
     "data": {
      "text/html": [
       "<script type=\"text/javascript\">window.PlotlyConfig = {MathJaxConfig: 'local'};</script><script type=\"text/javascript\">if (window.MathJax) {MathJax.Hub.Config({SVG: {font: \"STIX-Web\"}});}</script><script>requirejs.config({paths: { 'plotly': ['https://cdn.plot.ly/plotly-latest.min']},});if(!window._Plotly) {require(['plotly'],function(plotly) {window._Plotly=plotly;});}</script>"
      ],
      "text/vnd.plotly.v1+html": [
       "<script type=\"text/javascript\">window.PlotlyConfig = {MathJaxConfig: 'local'};</script><script type=\"text/javascript\">if (window.MathJax) {MathJax.Hub.Config({SVG: {font: \"STIX-Web\"}});}</script><script>requirejs.config({paths: { 'plotly': ['https://cdn.plot.ly/plotly-latest.min']},});if(!window._Plotly) {require(['plotly'],function(plotly) {window._Plotly=plotly;});}</script>"
      ]
     },
     "metadata": {},
     "output_type": "display_data"
    }
   ],
   "source": [
    "import warnings\n",
    "import itertools\n",
    "import pandas\n",
    "import math\n",
    "import sys\n",
    "import os\n",
    "import numpy as np\n",
    "from plotly.offline import download_plotlyjs, init_notebook_mode, plot, iplot\n",
    "init_notebook_mode(connected=True)"
   ]
  },
  {
   "cell_type": "code",
   "execution_count": 12,
   "metadata": {},
   "outputs": [],
   "source": [
    "# Add detector summary file to check scores for a given profile (Note that if there are missing fields in the file)\n",
    "\n",
    "detector = '3sigma'\n",
    "\n",
    "detector_summary_file = str.format(\"../results/{}/{}_standard_scores.csv\", detector, detector)\n",
    "#colomn name of the profile score in result files\n",
    "detector_profile = \"S(t)_standard\""
   ]
  },
  {
   "cell_type": "code",
   "execution_count": 13,
   "metadata": {},
   "outputs": [
    {
     "name": "stdout",
     "output_type": "stream",
     "text": [
      "Printing scores for selected profile (NaN represents total score):\n",
      "File\n",
      "realTraffic/speed_7578.csv                                     0.732555\n",
      "artificialNoAnomaly/art_flatline.csv                           0.000000\n",
      "artificialNoAnomaly/art_noisy.csv                              0.000000\n",
      "realAdExchange/exchange-2_cpc_results.csv                     -0.101757\n",
      "realTraffic/occupancy_t4013.csv                               -0.150428\n",
      "realTraffic/speed_6005.csv                                    -0.257378\n",
      "realAdExchange/exchange-4_cpm_results.csv                     -0.351205\n",
      "realKnownCause/ec2_request_latency_system_failure.csv         -0.444303\n",
      "realAWSCloudwatch/iio_us-east-1_i-a2eb1cd9_NetworkIn.csv      -2.415801\n",
      "realTraffic/speed_t4013.csv                                   -2.490813\n",
      "realAdExchange/exchange-2_cpm_results.csv                     -2.526092\n",
      "realAWSCloudwatch/rds_cpu_utilization_e47b3b.csv              -3.595936\n",
      "realAdExchange/exchange-4_cpc_results.csv                     -4.352685\n",
      "artificialWithAnomaly/art_increase_spike_density.csv          -5.447174\n",
      "realTraffic/occupancy_6005.csv                                -6.413899\n",
      "realAWSCloudwatch/ec2_cpu_utilization_5f5533.csv              -6.721807\n",
      "realAdExchange/exchange-3_cpc_results.csv                     -7.643996\n",
      "realAdExchange/exchange-3_cpm_results.csv                     -8.677416\n",
      "realAWSCloudwatch/ec2_cpu_utilization_825cc2.csv              -9.725835\n",
      "realAWSCloudwatch/ec2_cpu_utilization_ac20cd.csv             -10.883788\n",
      "realAWSCloudwatch/elb_request_count_8c0756.csv               -11.932708\n",
      "realTraffic/TravelTime_451.csv                               -12.051163\n",
      "realKnownCause/ambient_temperature_system_failure.csv        -12.753534\n",
      "realKnownCause/nyc_taxi.csv                                  -15.157760\n",
      "realAWSCloudwatch/rds_cpu_utilization_cc0c53.csv             -20.120709\n",
      "realTraffic/TravelTime_387.csv                               -22.055858\n",
      "realAWSCloudwatch/ec2_network_in_257a54.csv                  -23.904512\n",
      "realAWSCloudwatch/ec2_cpu_utilization_53ea38.csv             -28.542345\n",
      "artificialWithAnomaly/art_load_balancer_spikes.csv           -28.803082\n",
      "realTweets/Twitter_volume_AMZN.csv                           -30.794498\n",
      "artificialNoAnomaly/art_daily_perfect_square_wave.csv        -39.600000\n",
      "realKnownCause/rogue_agent_key_hold.csv                      -44.119372\n",
      "realAWSCloudwatch/ec2_network_in_5abac7.csv                  -44.270284\n",
      "realAWSCloudwatch/ec2_disk_write_bytes_1ef3de.csv            -46.969783\n",
      "realKnownCause/rogue_agent_key_updown.csv                    -61.335431\n",
      "artificialWithAnomaly/art_daily_jumpsup.csv                  -63.900642\n",
      "artificialWithAnomaly/art_daily_jumpsdown.csv                -64.494990\n",
      "artificialWithAnomaly/art_daily_nojump.csv                   -66.289132\n",
      "realAWSCloudwatch/ec2_cpu_utilization_fe7f93.csv             -67.395376\n",
      "realAWSCloudwatch/ec2_disk_write_bytes_c0d644.csv            -68.741003\n",
      "artificialWithAnomaly/art_daily_flatmiddle.csv               -71.402253\n",
      "artificialNoAnomaly/art_daily_small_noise.csv                -76.890000\n",
      "realTweets/Twitter_volume_FB.csv                             -78.285324\n",
      "realTweets/Twitter_volume_GOOG.csv                           -80.108479\n",
      "realTweets/Twitter_volume_KO.csv                             -83.733036\n",
      "realAWSCloudwatch/ec2_cpu_utilization_24ae8d.csv             -84.426955\n",
      "realAWSCloudwatch/ec2_cpu_utilization_c6585a.csv             -86.240000\n",
      "realTweets/Twitter_volume_CRM.csv                            -98.794140\n",
      "realTweets/Twitter_volume_UPS.csv                           -106.316534\n",
      "realTweets/Twitter_volume_AAPL.csv                          -117.124066\n",
      "realAWSCloudwatch/grok_asg_anomaly.csv                      -122.230422\n",
      "realAWSCloudwatch/ec2_cpu_utilization_77c1ca.csv            -149.298274\n",
      "realKnownCause/machine_temperature_system_failure.csv       -151.365877\n",
      "artificialNoAnomaly/art_daily_no_noise.csv                  -163.680000\n",
      "realTweets/Twitter_volume_IBM.csv                           -166.682459\n",
      "realTweets/Twitter_volume_CVS.csv                           -359.138336\n",
      "realKnownCause/cpu_utilization_asg_misconfiguration.csv     -374.650318\n",
      "realTweets/Twitter_volume_PFE.csv                           -667.745918\n",
      "NaN                                                        -3882.812337\n",
      "Name: Score, dtype: float64\n"
     ]
    }
   ],
   "source": [
    "#Reading summary\n",
    "Error = None\n",
    "if os.path.isfile(detector_summary_file):\n",
    "    summaryDataFrame = pandas.read_csv(detector_summary_file,index_col=\"File\")\n",
    "    if 'Score' in summaryDataFrame.columns:\n",
    "        summaryDataFrame = summaryDataFrame.sort_values(by=['Score'],ascending=False)\n",
    "        print(\"Printing scores for selected profile (NaN represents total score):\")\n",
    "        print(summaryDataFrame.loc[:, 'Score'])\n",
    "    else:\n",
    "        Error = \"'Score' colomn mission in data file\"\n",
    "        print(Error)\n",
    "else:\n",
    "    Error = \"No such file : \"+detector_summary_file\n",
    "    print(Error)"
   ]
  },
  {
   "cell_type": "code",
   "execution_count": 17,
   "metadata": {},
   "outputs": [],
   "source": [
    "# select detector summary file row(data file name) from above\n",
    "detector_summary_row = \"realAWSCloudwatch/ec2_disk_write_bytes_1ef3de.csv\"\n",
    "\n",
    "file_path = detector_summary_row.split('/')\n",
    "\n",
    "# Add detector result file(a single file for specific data file)\n",
    "result_file = str.format('../results/{}/{}/{}_{}', detector, file_path[0], detector, file_path[1])"
   ]
  },
  {
   "cell_type": "code",
   "execution_count": 18,
   "metadata": {},
   "outputs": [],
   "source": [
    "if not summaryDataFrame.index.contains(detector_summary_row):\n",
    "    Error = \"No detector_summary_row '\"+detector_summary_row+\"' in file \"+detector_summary_file\n",
    "else:\n",
    "    Error = None\n",
    "\n",
    "if set(['Threshold','TP','TN','FP','FN','Total_Count']).issubset(summaryDataFrame.columns) and Error is None:\n",
    "    if summaryDataFrame[\"Threshold\"][detector_summary_row].size == 1:\n",
    "        threshold = summaryDataFrame[\"Threshold\"][detector_summary_row]\n",
    "        TP = summaryDataFrame[\"TP\"][detector_summary_row]\n",
    "        TN = summaryDataFrame[\"TN\"][detector_summary_row]\n",
    "        FP = summaryDataFrame[\"FP\"][detector_summary_row]\n",
    "        FN = summaryDataFrame[\"FN\"][detector_summary_row]\n",
    "        total_Count = summaryDataFrame[\"Total_Count\"][detector_summary_row]\n",
    "    else:\n",
    "        threshold = summaryDataFrame[\"Threshold\"][detector_summary_row][0]\n",
    "        TP = summaryDataFrame[\"TP\"][detector_summary_row][0]\n",
    "        TN = summaryDataFrame[\"TN\"][detector_summary_row][0]\n",
    "        FP = summaryDataFrame[\"FP\"][detector_summary_row][0]\n",
    "        FN = summaryDataFrame[\"FN\"][detector_summary_row][0]\n",
    "        total_Count = summaryDataFrame[\"Total_Count\"][detector_summary_row][0]\n",
    "else:\n",
    "    if Error is None:\n",
    "        Error = \"Missing colomns in file \"+detector_summary_file\n",
    "    print(Error)\n",
    "    print(\"Run from beginng to clear Error\")"
   ]
  },
  {
   "cell_type": "code",
   "execution_count": 19,
   "metadata": {},
   "outputs": [
    {
     "name": "stdout",
     "output_type": "stream",
     "text": [
      "Missing colomns in file ../results/3sigma/realAWSCloudwatch/3sigma_ec2_disk_write_bytes_1ef3de.csv\n",
      "Missing colomns in file ../results/3sigma/realAWSCloudwatch/3sigma_ec2_disk_write_bytes_1ef3de.csv\n",
      "Run from beginng to clear Error\n"
     ]
    }
   ],
   "source": [
    "#Ploting Result (Note if the plot is not visible please close the tab shutdown notebook and restart)\n",
    "#Reading results file \n",
    "if os.path.isfile(result_file):\n",
    "    dataframe = pandas.read_csv(result_file)\n",
    "    Error = None\n",
    "else:\n",
    "    Error = \"No such file : \"+result_file\n",
    "    print(Error)\n",
    "\n",
    "if set(['timestamp','value','anomaly_score','label', detector_profile]).issubset(dataframe.columns)\\\n",
    "        and Error is None:\n",
    "    x = np.array(dataframe['timestamp'])\n",
    "    value = np.array(dataframe['value'])\n",
    "    anomaly_score = np.array(dataframe['anomaly_score'])\n",
    "    anomaly_label = np.array(dataframe['label'])\n",
    "\n",
    "    standard_score = np.array(dataframe[detector_profile])\n",
    "else:\n",
    "    if Error is None:\n",
    "        Error = \"Missing colomns in file \"+result_file\n",
    "    print(Error)\n",
    "# Plot values, anomaly score and label scaled to values\n",
    "\n",
    "if Error is None:\n",
    "    value_max = np.max(value)\n",
    "    trace_value = {\"x\": x,\n",
    "             \"y\": value,\n",
    "             \"mode\": 'lines',\n",
    "             \"name\": 'Value'}\n",
    "\n",
    "    trace_anomaly_score = {\"x\": x,\n",
    "                  \"y\": anomaly_score*value_max,\n",
    "                  \"mode\": 'lines',\n",
    "                  \"name\": 'Anomaly score'}\n",
    "\n",
    "    trace_anomaly_label = {\"x\": x,\n",
    "                  \"y\": anomaly_label*value_max,\n",
    "                  \"mode\": 'lines',\n",
    "                  \"name\": 'Anomaly window'}\n",
    "    trace_threshold = {\"x\": x,\n",
    "                  \"y\": np.ones(len(x))*threshold*value_max,\n",
    "                  \"mode\": 'lines',\n",
    "                  \"name\": 'Anomaly threshold'}\n",
    "\n",
    "    traces = [trace_value,trace_anomaly_score,trace_threshold,trace_anomaly_label]\n",
    "    layout = dict(title = \"Scalled anomaly score with value : \"+result_file,\n",
    "                  xaxis = dict(title = 'X'),\n",
    "                  yaxis = dict(title = 'Value')\n",
    "                 )\n",
    "    fig = dict(data=traces, layout=layout)\n",
    "    iplot(fig)\n",
    "\n",
    "    #plot, anomalys score, label, and result from benchmark\n",
    "    trace_anomaly_score = {\"x\": x,\n",
    "                  \"y\": anomaly_score,\n",
    "                  \"mode\": 'lines',\n",
    "                  \"name\": 'Anomaly score'}\n",
    "\n",
    "    trace_anomaly_label = {\"x\": x,\n",
    "                  \"y\": anomaly_label,\n",
    "                  \"mode\": 'lines',\n",
    "                  \"name\": 'Anomaly window'}\n",
    "\n",
    "    trace_threshold = {\"x\": x,\n",
    "                  \"y\": np.ones(len(x))*threshold,\n",
    "                  \"mode\": 'lines',\n",
    "                  \"name\": 'Anomaly threshold'}\n",
    "\n",
    "    trace_standard_score = {\"x\": x,\n",
    "                  \"y\": standard_score,\n",
    "                  \"mode\": 'lines',\n",
    "                  \"name\": 'standard_score'}\n",
    "\n",
    "    traces = [trace_anomaly_score,trace_threshold,trace_anomaly_label,trace_standard_score]\n",
    "    layout = dict(title = \"Anomaly score : \"+result_file,\n",
    "                  xaxis = dict(title = 'X'),\n",
    "                  yaxis = dict(title = 'Value')\n",
    "                 )\n",
    "    fig = dict(data=traces, layout=layout)\n",
    "    iplot(fig)\n",
    "else:\n",
    "    print(Error)\n",
    "    print(\"Run from beginng to clear Error\")"
   ]
  },
  {
   "cell_type": "code",
   "execution_count": 12,
   "metadata": {},
   "outputs": [
    {
     "name": "stdout",
     "output_type": "stream",
     "text": [
      "For result file : ../results/stlheds/realKnownCause/stlheds_ec2_request_latency_system_failure.csv\n",
      "True Positive (Detected anomalies) : 346\n",
      "True Negative (Detected non anomalies) : 0\n",
      "False Positive (False alarms) : 2882\n",
      "False Negative (Anomaly not detected) : 0\n",
      "Total data points : 3428\n",
      "S(t)_standard score : -141.498619903\n"
     ]
    }
   ],
   "source": [
    "if Error is None:\n",
    "    TP,TN,FP,FN = 0,0,0,0\n",
    "    for x in standard_score:\n",
    "        if x > 0:\n",
    "            TP +=1\n",
    "        elif x == 0:\n",
    "            TN +=1\n",
    "        elif x == -0.11:\n",
    "            FP +=1\n",
    "        elif x == -1:\n",
    "            FN +=1\n",
    "    print(\"For result file : \" + result_file)\n",
    "    print(\"True Positive (Detected anomalies) : \" + str(TP))\n",
    "    print(\"True Negative (Detected non anomalies) : \" + str(TN))\n",
    "    print(\"False Positive (False alarms) : \" + str(FP))\n",
    "    print(\"False Negative (Anomaly not detected) : \" + str(FN))\n",
    "    print(\"Total data points : \" + str(total_Count))\n",
    "    print(detector_profile+\" score : \"+str(np.sum(standard_score)))\n",
    "else:\n",
    "    print(Error)\n",
    "    print(\"Run from beginng to clear Error\")"
   ]
  },
  {
   "cell_type": "code",
   "execution_count": null,
   "metadata": {},
   "outputs": [],
   "source": []
  }
 ],
 "metadata": {
  "kernelspec": {
   "display_name": "Python 3",
   "language": "python",
   "name": "python3"
  },
  "language_info": {
   "codemirror_mode": {
    "name": "ipython",
    "version": 3
   },
   "file_extension": ".py",
   "mimetype": "text/x-python",
   "name": "python",
   "nbconvert_exporter": "python",
   "pygments_lexer": "ipython3",
   "version": "3.6.5"
  },
  "varInspector": {
   "cols": {
    "lenName": 16,
    "lenType": 16,
    "lenVar": 40
   },
   "kernels_config": {
    "python": {
     "delete_cmd_postfix": "",
     "delete_cmd_prefix": "del ",
     "library": "var_list.py",
     "varRefreshCmd": "print(var_dic_list())"
    },
    "r": {
     "delete_cmd_postfix": ") ",
     "delete_cmd_prefix": "rm(",
     "library": "var_list.r",
     "varRefreshCmd": "cat(var_dic_list()) "
    }
   },
   "types_to_exclude": [
    "module",
    "function",
    "builtin_function_or_method",
    "instance",
    "_Feature"
   ],
   "window_display": false
  }
 },
 "nbformat": 4,
 "nbformat_minor": 2
}
